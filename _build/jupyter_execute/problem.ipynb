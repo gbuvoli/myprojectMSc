{
 "cells": [
  {
   "cell_type": "markdown",
   "id": "a798b784",
   "metadata": {},
   "source": [
    "# Problema\n",
    "\n",
    "En la Universidad del Norte, la identificación temprana de estudiantes que podrían mostrar un bajo rendimiento en las pruebas SABER PRO es crucial para implementar intervenciones educativas efectivas. Actualmente, los métodos existentes para predecir el rendimiento estudiantil son insuficientes, ya que suelen basarse en indicadores tardíos o en análisis superficiales que no incorporan variables académicas y sociodemográficas comprensivas. Esto resulta en una falta de soporte proactivo para los estudiantes en riesgo, afectando no solo sus resultados académicos sino también su desarrollo profesional a largo plazo."
   ]
  }
 ],
 "metadata": {
  "jupytext": {
   "formats": "md:myst",
   "text_representation": {
    "extension": ".md",
    "format_name": "myst",
    "format_version": 0.13,
    "jupytext_version": "1.11.5"
   }
  },
  "kernelspec": {
   "display_name": "Python 3",
   "language": "python",
   "name": "python3"
  },
  "language_info": {
   "codemirror_mode": {
    "name": "ipython",
    "version": 3
   },
   "file_extension": ".py",
   "mimetype": "text/x-python",
   "name": "python",
   "nbconvert_exporter": "python",
   "pygments_lexer": "ipython3",
   "version": "3.9.17"
  },
  "source_map": [
   13
  ]
 },
 "nbformat": 4,
 "nbformat_minor": 5
}